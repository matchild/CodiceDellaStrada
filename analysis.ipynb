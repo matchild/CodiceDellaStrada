{
 "cells": [
  {
   "cell_type": "code",
   "execution_count": 1,
   "metadata": {},
   "outputs": [],
   "source": [
    "import os\n",
    "import openai\n",
    "from langchain.document_loaders.unstructured import UnstructuredFileLoader\n",
    "from langchain.text_splitter import CharacterTextSplitter\n",
    "from langchain.embeddings import OpenAIEmbeddings\n",
    "from langchain.vectorstores import Chroma\n",
    "from langchain.chains import RetrievalQA\n",
    "from langchain.llms import OpenAI\n",
    "import numpy as np"
   ]
  },
  {
   "cell_type": "code",
   "execution_count": 2,
   "metadata": {},
   "outputs": [],
   "source": [
    "#Load openai key\n",
    "openai.api_key = os.getenv(\"OPENAI_API_KEY\")"
   ]
  },
  {
   "cell_type": "markdown",
   "metadata": {},
   "source": [
    "## Create database for the first time"
   ]
  },
  {
   "cell_type": "code",
   "execution_count": null,
   "metadata": {},
   "outputs": [],
   "source": [
    "#Load document and split it into chunks\n",
    "loader = UnstructuredFileLoader('documents/codicedellastrada.pdf')\n",
    "documents = loader.load()\n",
    "text_splitter = CharacterTextSplitter(chunk_size=1000, chunk_overlap=200)\n",
    "texts = text_splitter.split_documents(documents)"
   ]
  },
  {
   "cell_type": "code",
   "execution_count": 9,
   "metadata": {},
   "outputs": [
    {
     "name": "stdout",
     "output_type": "stream",
     "text": [
      "15-bis. Salvo che il fatto costituisca reato, coloro che esercitano abusivamente, anche avvalendosi di altre persone, ovvero determinano altri ad esercitare abusivamente l’attività di parcheggiatore o guardiamacchine sono puniti con la sanzione amministrativa del pagamento di una somma da €729,00 a €2.918,00. Se nell’attività sono impiegati minori la somma è raddoppiata. Si applica, in ogni caso, la sanzione accessoria della confisca delle somme percepite, secondo le norme del capo I, sezione II, del titolo VI.\n",
      "\n",
      "Articolo 8\n",
      "\n",
      "Circolazione nelle piccole isole.\n"
     ]
    }
   ],
   "source": [
    "#sanity check\n",
    "print(texts[50].page_content)"
   ]
  },
  {
   "cell_type": "code",
   "execution_count": 11,
   "metadata": {},
   "outputs": [],
   "source": [
    "#create embedding db and store it in the knowledge/ folder\n",
    "embedding_function = OpenAIEmbeddings()\n",
    "db = Chroma.from_documents(texts, embedding_function, persist_directory=\"knowledge/\")\n",
    "db.persist()"
   ]
  },
  {
   "cell_type": "markdown",
   "metadata": {},
   "source": [
    "## Run queries"
   ]
  },
  {
   "cell_type": "code",
   "execution_count": null,
   "metadata": {},
   "outputs": [],
   "source": [
    "#load db\n",
    "embedding_function = OpenAIEmbeddings()\n",
    "db=Chroma(persist_directory=\"knowledge/\", embedding_function=embedding_function)"
   ]
  },
  {
   "cell_type": "code",
   "execution_count": 19,
   "metadata": {},
   "outputs": [],
   "source": [
    "#instantiate qa object\n",
    "qa = RetrievalQA.from_chain_type(llm=OpenAI(), chain_type=\"stuff\", retriever=db.as_retriever())"
   ]
  },
  {
   "cell_type": "code",
   "execution_count": 18,
   "metadata": {},
   "outputs": [
    {
     "data": {
      "text/plain": [
       "' Una strada a senso unico è una strada su cui i veicoli possono viaggiare in una sola direzione.'"
      ]
     },
     "execution_count": 18,
     "metadata": {},
     "output_type": "execute_result"
    }
   ],
   "source": [
    "#test with a query in Italian\n",
    "qa.run('Cosa si intende per strada a senso unico?')"
   ]
  },
  {
   "cell_type": "code",
   "execution_count": 21,
   "metadata": {},
   "outputs": [
    {
     "data": {
      "text/plain": [
       "' It depends on how much the speed limit is exceeded. If the speed limit is exceeded by up to 10 km/h, the fine is between €39 and €159. If the speed limit is exceeded by between 10 km/h and 40 km/h, the fine is between €159 and €639. If the speed limit is exceeded by between 40 km/h and 60 km/h, the fine is between €500 and €2,000. If the speed limit is exceeded by more than 60 km/h, the fine is between €779 and €3,119.'"
      ]
     },
     "execution_count": 21,
     "metadata": {},
     "output_type": "execute_result"
    }
   ],
   "source": [
    "#test with a query in English\n",
    "qa.run('What is the fine in case of speeding?')"
   ]
  },
  {
   "cell_type": "code",
   "execution_count": 9,
   "metadata": {},
   "outputs": [
    {
     "data": {
      "text/plain": [
       "' According to Article 172 of the Italian driving code, it is allowed to not wear a seatbelt in the following situations: for members of the police force and municipal police carrying out an emergency service, for drivers and attendants of fire and ambulance services in case of emergency, for children under three years old travelling in vehicles with front airbags unless the airbag has been deactivated, and for children under 1.5 meters tall travelling in public service vehicles or vehicles for hire with a driver, provided they are accompanied by a passenger aged 16 or over.'"
      ]
     },
     "execution_count": 9,
     "metadata": {},
     "output_type": "execute_result"
    }
   ],
   "source": [
    "#test with a query in English\n",
    "qa.run('In which situations it is allowed to not wear a seatbelt?')"
   ]
  },
  {
   "cell_type": "code",
   "execution_count": 18,
   "metadata": {},
   "outputs": [
    {
     "data": {
      "text/plain": [
       "' 50 km/h'"
      ]
     },
     "execution_count": 18,
     "metadata": {},
     "output_type": "execute_result"
    }
   ],
   "source": [
    "#test with a query in English\n",
    "qa.run('What is the speed limit in urban areas?')"
   ]
  },
  {
   "cell_type": "markdown",
   "metadata": {},
   "source": [
    "## Embedding analysis"
   ]
  },
  {
   "cell_type": "code",
   "execution_count": 17,
   "metadata": {},
   "outputs": [
    {
     "data": {
      "text/plain": [
       "{'ids': ['7a36234a-1cb2-11ee-9457-fb11816db9a1'],\n",
       " 'embeddings': None,\n",
       " 'documents': ['8. Chiunque viola le disposizioni dei commi precedenti è soggetto alla sanzione amministrativa\\n\\ndel pagamento di una somma da €80,00 a €318,00.\\n\\n9.\\n\\nIl veicolo non può proseguire il viaggio se il conducente non abbia provveduto a sistemare il carico secondo le modalità stabilite dal presente articolo. Perciò l’organo accertatore, nel caso che trattasi di veicolo a motore, oltre all’applicazione della sanzione di cui al comma 8, procede al ritiro immediato della carta di circolazione e della patente di guida, provvedendo con tutte le cautele che il veicolo sia condotto in luogo idoneo per la detta sistemazione; del ritiro è fatta menzione nel verbale di contestazione della violazione. I documenti sono restituiti all’avente diritto allorché il carico sia stato sistemato in conformità delle presenti norme. Le modalità della restituzione sono fissate dal regolamento.\\n\\nArticolo 165\\n\\nTraino di veicoli in avaria.\\n\\n1.'],\n",
       " 'metadatas': [{'source': 'documents/codicedellastrada.pdf'}]}"
      ]
     },
     "execution_count": 17,
     "metadata": {},
     "output_type": "execute_result"
    }
   ],
   "source": [
    "#explore the content of one element in the db\n",
    "db.get('7a36234a-1cb2-11ee-9457-fb11816db9a1')"
   ]
  },
  {
   "cell_type": "code",
   "execution_count": 14,
   "metadata": {},
   "outputs": [
    {
     "data": {
      "text/plain": [
       "(938, 1536)"
      ]
     },
     "execution_count": 14,
     "metadata": {},
     "output_type": "execute_result"
    }
   ],
   "source": [
    "#in order to see the embeddings, add \"include=['embeddings']\"\n",
    "#in this case we have 938 vectors of dimension 1536\n",
    "embeddings=np.asarray(db.get(include=['embeddings'])['embeddings'])\n",
    "embeddings.shape"
   ]
  },
  {
   "cell_type": "code",
   "execution_count": 26,
   "metadata": {},
   "outputs": [
    {
     "name": "stdout",
     "output_type": "stream",
     "text": [
      "[[-0.01491894  0.00957309  0.00425001 ...  0.01969248 -0.02558462\n",
      "  -0.00311191]\n",
      " [-0.01791039  0.00221909  0.00470427 ...  0.01587363 -0.01587363\n",
      "   0.00166801]]\n"
     ]
    }
   ],
   "source": [
    "#let's take a closer look at a couple of these embeddings\n",
    "print(embeddings[10:12])"
   ]
  },
  {
   "cell_type": "markdown",
   "metadata": {},
   "source": [
    "## Query analysis"
   ]
  },
  {
   "cell_type": "code",
   "execution_count": 13,
   "metadata": {},
   "outputs": [
    {
     "data": {
      "text/plain": [
       "[Document(page_content='1. Ai fini della sicurezza della circolazione e della tutela della vita umana la velocità massima non può superare i 130 km/h per le autostrade, i 110 km/h per le strade extraurbane principali, i 90 km/h per le strade extraurbane secondarie e per le strade extraurbane locali, ed i 50 km/h per le strade nei centri abitati, con la possibilità di elevare tale limite fino ad un massimo di 70 km/h per le strade urbane le cui caratteristiche costruttive e funzionali lo consentano, previa installazione degli appositi segnali. Sulle autostrade a tre corsie più corsia di emergenza per ogni senso di marcia dotate di apparecchiature debitamente omologate per il calcolo della velocità media di percorrenza su tratti determinati, gli enti proprietari o concessionari possono elevare il limite massimo di velocità fino a 150 km/h sulla base delle caratteristiche progettuali ed effettive del tracciato, previa installazione degli appositi segnali, sempreché lo consentano l’intensità del traffico, le condizioni atmosferiche prevalenti ed i dati di incidentalità dell’ultimo quinquennio. In caso di precipitazioni atmosferiche di qualsiasi natura, la velocità massima non può superare i 110 km/h per le autostrade ed i 90 km/h per le strade extraurbane principali.', metadata={'source': 'documents/codicedellastrada.pdf'}),\n",
       " Document(page_content='3.\\n\\nLe seguenti categorie di veicoli non possono superare le velocità sottoindicate:\\n\\na) ciclomotori: 45 km/h; b) autoveicoli o motoveicoli utilizzati per il trasporto delle merci pericolose rientranti nella classe 1 figurante in allegato all’accordo di cui all’articolo 168, comma 1, quando viaggiano carichi: 50 km/h fuori dei centri abitati; 30 km/h nei centri abitati;\\n\\nc) macchine agricole e macchine operatrici: 40 km/h se montati su pneumatici o su altri\\n\\nsistemi equipollenti; 15 km/h in tutti gli altri casi;\\n\\nd) quadricicli: 80 km/h fuori dei centri abitati; e) treni costituiti da un autoveicolo e da un rimorchio di cui alle lettere h), i) e l) dell’art. 54,\\n\\ncomma 1: 70 km/h fuori dei centri abitati; 80 km/h sulle autostrade;\\n\\nf) autobus e filobus di massa complessiva a pieno carico superiore a 8 t: 80 km/h fuori dei\\n\\ncentri abitati; 100 km/h sulle autostrade;', metadata={'source': 'documents/codicedellastrada.pdf'}),\n",
       " Document(page_content='f) autobus e filobus di massa complessiva a pieno carico superiore a 8 t: 80 km/h fuori dei\\n\\ncentri abitati; 100 km/h sulle autostrade;\\n\\ng) autoveicoli destinati al trasporto di cose o ad altri usi, di massa complessiva a pieno carico superiore a 3,5 t e fino a 12 t: 80 km/h fuori dei centri abitati; 100 km/h sulle autostrade;\\n\\nh) autoveicoli destinati al trasporto di cose o ad altri usi, di massa complessiva a pieno carico superiore a 12 t: 70 km/h fuori dei centri abitati; 80 km/h sulle autostrade; i) autocarri di massa complessiva a pieno carico superiore a 5 t se adoperati per il trasporto di persone ai sensi dell’art. 82, comma 6: 70 km/h fuori dei centri abitati; 80 km/h sulle autostrade;\\n\\nl) mezzi d’opera quando viaggiano a pieno carico: 40 km/h nei centri abitati; 60 km/h fuori\\n\\ndei centri abitati.', metadata={'source': 'documents/codicedellastrada.pdf'}),\n",
       " Document(page_content='l) mezzi d’opera quando viaggiano a pieno carico: 40 km/h nei centri abitati; 60 km/h fuori\\n\\ndei centri abitati.\\n\\n4. Nella parte posteriore dei veicoli di cui al comma 3, ad eccezione di quelli di cui alle lettere a) e b), devono essere indicate le velocità massime consentite. Qualora si tratti di complessi di veicoli, l’indicazione del limite va riportata sui rimorchi ovvero sui semirimorchi. Sono comunque esclusi da tale obbligo gli autoveicoli militari ricompresi nelle lettere c), g), h) ed i)\\n\\n109\\n\\ndel comma 3, quando siano in dotazione alle Forze armate, ovvero ai Corpi ed organismi indicati nell’articolo 138, comma 11.\\n\\n5.\\n\\nIn tutti i casi nei quali sono fissati limiti di velocità restano fermi gli obblighi stabiliti dall’art. 141.\\n\\n6.', metadata={'source': 'documents/codicedellastrada.pdf'})]"
      ]
     },
     "execution_count": 13,
     "metadata": {},
     "output_type": "execute_result"
    }
   ],
   "source": [
    "#first step: embed the question and retrieve the most similar sentences in the db \n",
    "db.similarity_search('What is the speed limit on motorways?')"
   ]
  },
  {
   "cell_type": "code",
   "execution_count": 34,
   "metadata": {},
   "outputs": [
    {
     "data": {
      "text/plain": [
       "\"Use the following pieces of context to answer the question at the end. If you don't know the answer, just say that you don't know, don't try to make up an answer.\\n\\n{context}\\n\\nQuestion: {question}\\nHelpful Answer:\""
      ]
     },
     "execution_count": 34,
     "metadata": {},
     "output_type": "execute_result"
    }
   ],
   "source": [
    "#second step: call the API\n",
    "#langchain completes this prompt by substituting {question} and {context} with the query and the sentences obtained through the similarity search respectively\n",
    "qa.combine_documents_chain.llm_chain.prompt.template"
   ]
  }
 ],
 "metadata": {
  "kernelspec": {
   "display_name": "venv",
   "language": "python",
   "name": "python3"
  },
  "language_info": {
   "codemirror_mode": {
    "name": "ipython",
    "version": 3
   },
   "file_extension": ".py",
   "mimetype": "text/x-python",
   "name": "python",
   "nbconvert_exporter": "python",
   "pygments_lexer": "ipython3",
   "version": "3.10.6"
  },
  "orig_nbformat": 4
 },
 "nbformat": 4,
 "nbformat_minor": 2
}
